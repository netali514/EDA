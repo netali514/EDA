{
 "cells": [
  {
   "cell_type": "markdown",
   "metadata": {
    "ExecuteTime": {
     "end_time": "2020-11-04T04:21:14.435716Z",
     "start_time": "2020-11-04T04:21:14.427737Z"
    }
   },
   "source": [
    "# Virat Kohli : Batting Analysis (2008-2018):\n",
    "**Virat Kohli** is an Indian cricketer. He was born in Delhi, India on November 5, 1988. Virat is the first player in ICC cricket history to win all 3 ICC awards in a single year- ICC ODI player of the year, ICC Test player of the year and ICC Player of the year award in 2018.\n",
    "\n",
    "<img src=\"https://images.thequint.com/thequint%2F2018-01%2F5d369107-8477-4216-a39d-ad806e1d3a0c%2FVirat-century.jpg?rect=0%2C0%2C4650%2C2616&auto=format%2Ccompress&fmt=webp&w=700&dpr=1.0.jpg\" width=\"500\" height=\"500\" />\n",
    "\n",
    "**Born**: November 5, 1988, Delhi, India\n",
    "\n",
    "**Team**: India national cricket team\n",
    "\n",
    "**Sport**: Cricket\n",
    "\n",
    "**Nationality**: India"
   ]
  },
  {
   "cell_type": "markdown",
   "metadata": {},
   "source": [
    "**Data Dictionary**\n",
    "1. RunsScored : Number of Runs scored by Kohli in the match.\n",
    "2. BallsFaced : Number of Balls Faces by Kohli in the match.\n",
    "3. BattingPosition : Batting position is Virat Kohli's position on the batting order.\n",
    "4. Dismissal : How Kohli got out in the match or not out. Caught, NO: Not Out, Bowled, Run out, LBW, Stumped, Hit wicket.\n",
    "5. Inning : An innings is one of the divisions of a match during which one team takes its turn to bat. Two 1st inning or 2nd inning.\n",
    "6. Opposition : Name of the Opposition team.\n",
    "7. Year : Year in which the match was played."
   ]
  },
  {
   "cell_type": "code",
   "execution_count": null,
   "metadata": {
    "ExecuteTime": {
     "end_time": "2020-11-26T11:44:50.700940Z",
     "start_time": "2020-11-26T11:44:50.678905Z"
    }
   },
   "outputs": [],
   "source": [
    "import numpy as np\n",
    "import pandas as pd\n",
    "import matplotlib.pyplot as plt\n",
    "%matplotlib inline\n",
    "import seaborn as sns \n",
    "from warnings import filterwarnings\n",
    "filterwarnings(\"ignore\")"
   ]
  },
  {
   "cell_type": "code",
   "execution_count": null,
   "metadata": {
    "ExecuteTime": {
     "end_time": "2020-11-26T11:44:51.815869Z",
     "start_time": "2020-11-26T11:44:51.766831Z"
    }
   },
   "outputs": [],
   "source": [
    "# Read Bastman details file\n",
    "mydata = pd.read_csv('Batsman.csv')"
   ]
  },
  {
   "cell_type": "code",
   "execution_count": null,
   "metadata": {
    "ExecuteTime": {
     "end_time": "2020-11-26T11:44:52.457768Z",
     "start_time": "2020-11-26T11:44:52.428878Z"
    }
   },
   "outputs": [],
   "source": [
    "# View first 5 rows\n",
    "mydata.head()"
   ]
  },
  {
   "cell_type": "code",
   "execution_count": null,
   "metadata": {
    "ExecuteTime": {
     "end_time": "2020-11-26T11:44:52.942988Z",
     "start_time": "2020-11-26T11:44:52.926995Z"
    }
   },
   "outputs": [],
   "source": [
    "#Checking Info\n",
    "mydata.info()"
   ]
  },
  {
   "cell_type": "code",
   "execution_count": null,
   "metadata": {
    "ExecuteTime": {
     "end_time": "2020-11-26T11:44:53.486554Z",
     "start_time": "2020-11-26T11:44:53.481566Z"
    }
   },
   "outputs": [],
   "source": [
    "#Shape of the data\n",
    "mydata.shape"
   ]
  },
  {
   "cell_type": "code",
   "execution_count": null,
   "metadata": {
    "ExecuteTime": {
     "end_time": "2020-11-26T11:44:54.307182Z",
     "start_time": "2020-11-26T11:44:54.294702Z"
    }
   },
   "outputs": [],
   "source": [
    "#Null Value Check\n",
    "mydata.isnull().sum()"
   ]
  },
  {
   "cell_type": "code",
   "execution_count": null,
   "metadata": {
    "ExecuteTime": {
     "end_time": "2020-11-26T11:44:57.590930Z",
     "start_time": "2020-11-26T11:44:57.551424Z"
    }
   },
   "outputs": [],
   "source": [
    "# Descriptive summary\n",
    "mydata.describe()"
   ]
  },
  {
   "cell_type": "code",
   "execution_count": null,
   "metadata": {
    "ExecuteTime": {
     "end_time": "2020-11-26T11:44:58.945940Z",
     "start_time": "2020-11-26T11:44:58.881365Z"
    },
    "scrolled": true
   },
   "outputs": [],
   "source": [
    "# Descriptive summary for Numeric and Categorical variables\n",
    "mydata.describe(include=\"all\")"
   ]
  },
  {
   "cell_type": "markdown",
   "metadata": {},
   "source": [
    "## Q-1 What is the percentage for Kohli being Not Out.\n",
    "**Make a Pie Chart displaying the distribution of Dismissals**"
   ]
  },
  {
   "cell_type": "code",
   "execution_count": null,
   "metadata": {
    "ExecuteTime": {
     "end_time": "2020-11-26T11:45:19.058755Z",
     "start_time": "2020-11-26T11:45:19.036102Z"
    }
   },
   "outputs": [],
   "source": [
    "# Information available in 'Dismissal' field\n",
    "mydata[\"Dismissal\"].value_counts()"
   ]
  },
  {
   "cell_type": "code",
   "execution_count": null,
   "metadata": {
    "ExecuteTime": {
     "end_time": "2020-11-26T11:45:20.172715Z",
     "start_time": "2020-11-26T11:45:20.158118Z"
    }
   },
   "outputs": [],
   "source": [
    "# To get the labels\n",
    "mydata[\"Dismissal\"].value_counts().index"
   ]
  },
  {
   "cell_type": "code",
   "execution_count": null,
   "metadata": {
    "ExecuteTime": {
     "end_time": "2020-11-26T11:45:34.656583Z",
     "start_time": "2020-11-26T11:45:34.437249Z"
    }
   },
   "outputs": [],
   "source": [
    "#import matplotlib.pyplot as plt\n",
    "plt.figure(figsize=(9,9))\n",
    "plt.pie(mydata[\"Dismissal\"].value_counts(),labels=mydata[\"Dismissal\"].value_counts().index,autopct='%1.1f%%',explode = (0, 0.10, 0, 0,0,0,0));\n",
    "# autopct=\"%.1f%%\" is used here display the percentage in the pie-chart upto 1 deciaml place\n",
    "# explode = (0, 0.30, 0, 0,0,0,0) is used here to take the Not Out portion little out(30%) of the pie-chart\n",
    "#plt.show()"
   ]
  },
  {
   "cell_type": "markdown",
   "metadata": {},
   "source": [
    "## Q-2 Find the number of times when kohli scored less than or equal to 7 runs?"
   ]
  },
  {
   "cell_type": "code",
   "execution_count": null,
   "metadata": {
    "ExecuteTime": {
     "end_time": "2020-11-26T11:46:09.958678Z",
     "start_time": "2020-11-26T11:46:09.458906Z"
    }
   },
   "outputs": [],
   "source": [
    "# Histogram of runs scored\n",
    "plt.figure(figsize=(15,7))\n",
    "#sns.distplot(mydata[\"RunsScored\"],bins = 26,kde = False,color = 'b',norm_hist = True,hist_kws = {'linewidth' : 0.5,'edgecolor' : 'white'})\n",
    "sns.distplot(mydata[\"RunsScored\"],bins = 26,kde = False,color = 'g',hist_kws = {'linewidth' : 0.5,'edgecolor' : 'white'})\n",
    "# bins = 26: As the maximum score scored by Kohli is around 183 and we are trying to divide it in equal sized bins (7). 183/7~26\n",
    "# kde = False: as KDE plot is not expected to be displayed in the question.\n",
    "# hist_kws = {'linewidth' : 0.5,'edgecolor' : 'white'}: To uniquely identify each bin with a white line btw each of them of width 0.5 \n",
    "plt.xticks(np.arange(0,183,7)) # This code gives the values for X-Axis with step size of 7 in the range starting from 0 to 182\n",
    "plt.show()"
   ]
  },
  {
   "cell_type": "markdown",
   "metadata": {},
   "source": [
    "The plot shows that Kohli has scored less than or equal to 7 runs for 40 times out of all of his ODI innings.\n",
    "\n",
    "**Note** all the bins represent 7 runs. Student can try for other scores and bin sizes on their own for practice"
   ]
  },
  {
   "cell_type": "markdown",
   "metadata": {},
   "source": [
    "## Q.4 Use Boxplot to tell the IQR( Inter Quartile Range) middle 50% of runs scored by Kohli?\n",
    "[Hint: Middle 50% Range= Q3(75%)-Q1(25%)]"
   ]
  },
  {
   "cell_type": "code",
   "execution_count": null,
   "metadata": {
    "ExecuteTime": {
     "end_time": "2020-11-26T11:46:44.207092Z",
     "start_time": "2020-11-26T11:46:44.024780Z"
    }
   },
   "outputs": [],
   "source": [
    "# Boxplots of Runs Scored\n",
    "sns.boxplot(x = 'RunsScored',color = 'violet',data = mydata, showmeans=True)\n",
    "plt.show()"
   ]
  },
  {
   "cell_type": "code",
   "execution_count": null,
   "metadata": {
    "ExecuteTime": {
     "end_time": "2020-11-26T11:46:45.035506Z",
     "start_time": "2020-11-26T11:46:45.023663Z"
    }
   },
   "outputs": [],
   "source": [
    "mydata[\"RunsScored\"].quantile(.25) #Q1"
   ]
  },
  {
   "cell_type": "code",
   "execution_count": null,
   "metadata": {
    "ExecuteTime": {
     "end_time": "2020-11-26T11:46:45.672064Z",
     "start_time": "2020-11-26T11:46:45.656692Z"
    }
   },
   "outputs": [],
   "source": [
    "mydata[\"RunsScored\"].quantile(.75)#Q3"
   ]
  },
  {
   "cell_type": "code",
   "execution_count": null,
   "metadata": {
    "ExecuteTime": {
     "end_time": "2020-11-26T11:46:46.469538Z",
     "start_time": "2020-11-26T11:46:46.458069Z"
    }
   },
   "outputs": [],
   "source": [
    "81.25-10.75"
   ]
  },
  {
   "cell_type": "markdown",
   "metadata": {},
   "source": [
    "From the boxplot we can see that middle 50% range of runs scored by Kohli lie between 10.75 and 81.25 runs."
   ]
  },
  {
   "cell_type": "markdown",
   "metadata": {},
   "source": [
    "## Q. What is the best way that the opposition team bowlers can get Kohli out?\n",
    "\n",
    "How Kohli got dismissed most of the times?\n",
    "\n",
    "[Hint: Use countplot]"
   ]
  },
  {
   "cell_type": "code",
   "execution_count": null,
   "metadata": {
    "ExecuteTime": {
     "end_time": "2020-11-26T11:47:04.007085Z",
     "start_time": "2020-11-26T11:47:03.727207Z"
    }
   },
   "outputs": [],
   "source": [
    "# Count plot of Dismissals\n",
    "sns.countplot(mydata['Dismissal'])\n",
    "plt.show()"
   ]
  },
  {
   "cell_type": "markdown",
   "metadata": {},
   "source": [
    "The most number of times Kohli has got out is by getting caught.\n",
    "\n",
    "<img src=\"https://imgk.timesnownews.com/story/Zampa_Kohli.png?tr=w-600,h-450,fo-auto\" width=\"500\" height=\"200\" />\n",
    "\n",
    " Apart from that he seems to stay not out for most of the innings and looks like it is hard to get him out by other ways apart from being caught."
   ]
  },
  {
   "cell_type": "markdown",
   "metadata": {},
   "source": [
    "## Q. Against which opposition team Kohli has played the most in his career?\n",
    "[Hint: Use Countplot]"
   ]
  },
  {
   "cell_type": "code",
   "execution_count": null,
   "metadata": {
    "ExecuteTime": {
     "end_time": "2020-11-26T11:47:12.283241Z",
     "start_time": "2020-11-26T11:47:11.987480Z"
    }
   },
   "outputs": [],
   "source": [
    "# Countplot of Opposition - horizontally plotted\n",
    "sns.countplot(y=mydata['Opposition'],order = mydata['Opposition'].value_counts().index)\n",
    "plt.show()"
   ]
  },
  {
   "cell_type": "markdown",
   "metadata": {},
   "source": [
    "As we can see, Kohli has played against Srilanka the most in his career, followed by West Indies and England."
   ]
  },
  {
   "cell_type": "markdown",
   "metadata": {},
   "source": [
    "## Q. Find out some interesting dismissal patterns in Kohli's career againsts the oppositions.\n",
    "[Hint: Stacked Bar Plot]"
   ]
  },
  {
   "cell_type": "code",
   "execution_count": null,
   "metadata": {
    "ExecuteTime": {
     "end_time": "2020-11-26T11:47:23.338197Z",
     "start_time": "2020-11-26T11:47:22.434246Z"
    }
   },
   "outputs": [],
   "source": [
    "ct= pd.crosstab(mydata['Opposition'],mydata['Dismissal'], margins=True )\n",
    "ct.drop('All',inplace=True)\n",
    "ct\n",
    "\n",
    "ct.drop('All',axis = 1,inplace = True)\n",
    "ct\n",
    "\n",
    "ct.plot.bar(stacked = True,figsize = (20,7))\n",
    "plt.grid(b=bool)\n",
    "plt.show()\n"
   ]
  },
  {
   "cell_type": "markdown",
   "metadata": {},
   "source": [
    "The one time Netherlands has been able to dismiss Kohli is by getting him bowled. \n",
    "\n",
    "He has stayed not-out against UAE in the one match he played/did not get a chance to bat against them.\n",
    "\n",
    "He has got out by hit wicket against England.\n",
    "\n",
    "Interestingly, he has been dismissed by New Zealand only by catching.\n",
    "\n",
    "No other team has been able to stump him other than Bangladesh, England and West Indies"
   ]
  },
  {
   "cell_type": "markdown",
   "metadata": {},
   "source": [
    "## Q. Which opposition has Kohli scored most runs against? Find the median score against different oppositions and use a boxplot to represent it?\n",
    "[Hint: Use barchart & BoxPlot]"
   ]
  },
  {
   "cell_type": "code",
   "execution_count": null,
   "metadata": {
    "ExecuteTime": {
     "end_time": "2020-11-26T11:48:23.791002Z",
     "start_time": "2020-11-26T11:48:23.498768Z"
    }
   },
   "outputs": [],
   "source": [
    "# Bar plot of Total runs scored against each Oppostion\n",
    "sns.barplot( x='RunsScored', y='Opposition', estimator = np.sum, data=mydata, ci=None)\n",
    "# ci=None: Display of confidence intervals is not expected\n",
    "#estimator = np.sum: Statistical function to estimate within each categorical bin sum wise\n",
    "plt.show()"
   ]
  },
  {
   "cell_type": "markdown",
   "metadata": {},
   "source": [
    "He has scored most runs against Srilanka."
   ]
  },
  {
   "cell_type": "markdown",
   "metadata": {},
   "source": [
    "**As the total runs scored would depend on the number of matches played against an opposition. May be that is why SriLanka coming at the top here. Let us check whether boxplot tells the same story.**"
   ]
  },
  {
   "cell_type": "code",
   "execution_count": null,
   "metadata": {
    "ExecuteTime": {
     "end_time": "2020-11-26T11:48:38.834511Z",
     "start_time": "2020-11-26T11:48:38.298910Z"
    }
   },
   "outputs": [],
   "source": [
    "plt.figure(figsize=(15,7))\n",
    "sns.boxplot(x= 'RunsScored', y='Opposition', data=mydata)\n",
    "plt.show()"
   ]
  },
  {
   "cell_type": "code",
   "execution_count": null,
   "metadata": {
    "ExecuteTime": {
     "end_time": "2020-11-26T11:48:40.439175Z",
     "start_time": "2020-11-26T11:48:40.425796Z"
    }
   },
   "outputs": [],
   "source": [
    "mydata[mydata[\"Opposition\"]==\"Bangladesh\"][\"RunsScored\"].median() "
   ]
  },
  {
   "cell_type": "code",
   "execution_count": null,
   "metadata": {
    "ExecuteTime": {
     "end_time": "2020-11-26T11:48:40.695408Z",
     "start_time": "2020-11-26T11:48:40.682022Z"
    }
   },
   "outputs": [],
   "source": [
    "mydata[mydata[\"Opposition\"]==\"New Zealand\"][\"RunsScored\"].median() "
   ]
  },
  {
   "cell_type": "code",
   "execution_count": null,
   "metadata": {
    "ExecuteTime": {
     "end_time": "2020-11-26T11:49:24.681869Z",
     "start_time": "2020-11-26T11:49:24.664856Z"
    }
   },
   "outputs": [],
   "source": [
    "mydata[mydata[\"Opposition\"]==\"Sri Lanka\"][\"RunsScored\"].median() "
   ]
  },
  {
   "cell_type": "markdown",
   "metadata": {},
   "source": [
    "**Highest Median is against Bangladesh. As seen in the above plot for countries like Bangladesh and New Zealand he has scored above 66 and 64 respectively in 50% of the matches played against each of them, While against Sri Lanka he has scored more then only 37 in 50% of the matches.**"
   ]
  },
  {
   "cell_type": "markdown",
   "metadata": {},
   "source": [
    "## Q. Compare the runs scored by Kohli in 1st innings vs the 2nd innings.\n",
    "[Hint: Use Boxplot]"
   ]
  },
  {
   "cell_type": "code",
   "execution_count": null,
   "metadata": {},
   "outputs": [],
   "source": [
    "mydata['Inning_cat']=pd.Categorical(mydata['Inning'])"
   ]
  },
  {
   "cell_type": "code",
   "execution_count": null,
   "metadata": {},
   "outputs": [],
   "source": [
    "mydata.info()"
   ]
  },
  {
   "cell_type": "code",
   "execution_count": null,
   "metadata": {
    "ExecuteTime": {
     "end_time": "2020-11-26T11:51:19.947271Z",
     "start_time": "2020-11-26T11:51:19.828563Z"
    }
   },
   "outputs": [],
   "source": [
    "# Boxpolot of Runs scored by Innings (batting first or second)\n",
    "sns.boxplot(x=\"RunsScored\", y=\"Inning_cat\", data=mydata, orient='h')\n",
    "# orient='h' To display the boxplot on horizontal axis\n",
    "plt.show()"
   ]
  },
  {
   "cell_type": "markdown",
   "metadata": {},
   "source": [
    "Kohli, known as one of the best chasers in world cricket, as we we see has from the plot, has better run scoring ability in the 2nd innings while chasing. His highest score has also come in while chasing."
   ]
  },
  {
   "cell_type": "markdown",
   "metadata": {},
   "source": [
    "## Q. Pre and Post transformation comparison\n",
    "\n",
    "**It is well known that Kohli started taking fitness much more seriously post an ordinary IPL in 2012. He changed his training regime and eating habits completely, realising the need to transform his body to survive the rigours of playing all three formats.**\n",
    "<img src=\"https://cdn.wisden.com/wp-content/uploads/2020/07/Untitled-design-47.png\" width=\"500\" height=\"500\" />\n",
    "<img src= \"https://encrypted-tbn0.gstatic.com/images?q=tbn%3AANd9GcSskALcVu6o9iI-7Q_rsehBkQ4PpDN6IAjWwA&usqp=CAU\" width=\"500\" height=\"500\" />\n",
    "\n",
    "**Kohli says it was the absence of fear or respect for him in the opposition's eye that has forced him to change his work ethic\n",
    "Kohli revealed how working on his fitness has lifted his game after coming back from the Australian tour in 2012\n",
    "While he considers his idol Tendulkar's skills as a cricketer in a different league, his is a case of pure hard work**"
   ]
  },
  {
   "cell_type": "markdown",
   "metadata": {},
   "source": [
    "Adding a column giving true for those rows which represent post transformation "
   ]
  },
  {
   "cell_type": "code",
   "execution_count": null,
   "metadata": {
    "ExecuteTime": {
     "end_time": "2020-11-26T11:51:22.495668Z",
     "start_time": "2020-11-26T11:51:22.490715Z"
    }
   },
   "outputs": [],
   "source": [
    "mydata['post_transform'] = mydata[\"Year\"]>2012"
   ]
  },
  {
   "cell_type": "code",
   "execution_count": null,
   "metadata": {},
   "outputs": [],
   "source": [
    "mydata"
   ]
  },
  {
   "cell_type": "markdown",
   "metadata": {},
   "source": [
    "## Use a Boxplot to compare the runs Scored before and after transformation\n"
   ]
  },
  {
   "cell_type": "code",
   "execution_count": null,
   "metadata": {
    "ExecuteTime": {
     "end_time": "2020-11-26T11:51:25.380457Z",
     "start_time": "2020-11-26T11:51:25.192104Z"
    }
   },
   "outputs": [],
   "source": [
    "sns.boxplot(x=\"RunsScored\", y=\"post_transform\", data=mydata, orient='h')\n",
    "plt.show()"
   ]
  },
  {
   "cell_type": "markdown",
   "metadata": {},
   "source": [
    "**We can see clearly from the plot, post transformation, he has been scoring more runs as the median value has shifted to the right.**"
   ]
  },
  {
   "cell_type": "markdown",
   "metadata": {},
   "source": [
    "## Use a Boxplot to compare the Balls Faced before and after transformation"
   ]
  },
  {
   "cell_type": "code",
   "execution_count": null,
   "metadata": {
    "ExecuteTime": {
     "end_time": "2020-11-26T11:55:45.660523Z",
     "start_time": "2020-11-26T11:55:45.401352Z"
    }
   },
   "outputs": [],
   "source": [
    "sns.boxplot(x=\"BallsFaced\", y=\"post_transform\", data=mydata, orient='h')\n",
    "plt.show()"
   ]
  },
  {
   "cell_type": "markdown",
   "metadata": {},
   "source": [
    "**Post transformation**, the median value for number of balls faced has also shifted to the right. This clearly shows his ability to play longer innings has improved post transformation"
   ]
  },
  {
   "cell_type": "markdown",
   "metadata": {},
   "source": [
    "## Use a Boxplot to compare the runs Scored before and after transformation with Hue as innings(innings wise)\n"
   ]
  },
  {
   "cell_type": "code",
   "execution_count": null,
   "metadata": {
    "ExecuteTime": {
     "end_time": "2020-11-26T11:55:56.741269Z",
     "start_time": "2020-11-26T11:55:56.369733Z"
    }
   },
   "outputs": [],
   "source": [
    "sns.boxplot(x=\"RunsScored\", y=\"post_transform\",hue='Inning', data=mydata, orient='h')"
   ]
  },
  {
   "cell_type": "markdown",
   "metadata": {},
   "source": [
    "**Clearly, Kohli was good at chasing as compared to batting first, prior he went through the transformation. But post transformation, he has significantly improved his run scoring ability batting first.**"
   ]
  },
  {
   "cell_type": "markdown",
   "metadata": {},
   "source": [
    "## Use a bar plot to compare the dismissal patterns before and after transformation.\n",
    "[Hint: Bar Plot]"
   ]
  },
  {
   "cell_type": "code",
   "execution_count": null,
   "metadata": {
    "ExecuteTime": {
     "end_time": "2020-11-26T11:56:20.827383Z",
     "start_time": "2020-11-26T11:56:20.718217Z"
    }
   },
   "outputs": [],
   "source": [
    "pd.crosstab(index = mydata['post_transform'],columns=mydata['Dismissal'], values=mydata['RunsScored'],margins=True,aggfunc='mean')"
   ]
  },
  {
   "cell_type": "code",
   "execution_count": null,
   "metadata": {
    "ExecuteTime": {
     "end_time": "2020-11-26T11:56:22.374968Z",
     "start_time": "2020-11-26T11:56:21.907918Z"
    }
   },
   "outputs": [],
   "source": [
    "ct = pd.crosstab(index = mydata['post_transform'],columns=mydata['Dismissal'], values=mydata['RunsScored'],margins=True,aggfunc='mean')\n",
    "ct.drop('All',inplace = True)\n",
    "ct.drop('All',axis = 1,inplace = True)\n",
    "ct.plot.bar(figsize = (10,6))\n",
    "plt.ylabel(\"Average Run Scored\")\n",
    "plt.show()"
   ]
  },
  {
   "cell_type": "markdown",
   "metadata": {},
   "source": [
    "The average score before getting stumped and bowled has drastically improved post transformation. Average runs scored before 'Run Out' has also improved."
   ]
  },
  {
   "cell_type": "markdown",
   "metadata": {},
   "source": [
    "## Use Pointplot to Visualize Yearly trend in run scored by Virat Kohli\n",
    "[Hint: pointplot]"
   ]
  },
  {
   "cell_type": "code",
   "execution_count": null,
   "metadata": {
    "ExecuteTime": {
     "end_time": "2020-11-26T11:56:36.448291Z",
     "start_time": "2020-11-26T11:56:36.170103Z"
    }
   },
   "outputs": [],
   "source": [
    "plt.figure(figsize=(8,6))\n",
    "sns.pointplot(mydata['Year'], mydata['RunsScored'],ci=None)\n",
    "plt.show()"
   ]
  },
  {
   "cell_type": "markdown",
   "metadata": {},
   "source": [
    "## Can we say there is a  linear relationship between RunsScored & BallsFaced over different batting positions?\n",
    "[Hint: Use LMplot]"
   ]
  },
  {
   "cell_type": "code",
   "execution_count": null,
   "metadata": {
    "ExecuteTime": {
     "end_time": "2020-11-26T11:58:01.465904Z",
     "start_time": "2020-11-26T11:58:00.523394Z"
    }
   },
   "outputs": [],
   "source": [
    "sns.lmplot(x=\"RunsScored\", y=\"BallsFaced\",hue='BattingPosition', data=mydata,height=7)\n",
    "plt.show()"
   ]
  },
  {
   "cell_type": "markdown",
   "metadata": {},
   "source": [
    " The relationship is linear between RunsScored & BallsFaced over all the batting positions. At position number 3 number of balls faced is highest and highest score also stands at batting position 3."
   ]
  },
  {
   "cell_type": "markdown",
   "metadata": {},
   "source": [
    "## How the batting position has changed with different oppositions yearly?\n",
    "[Hint: FacetGrid]"
   ]
  },
  {
   "cell_type": "code",
   "execution_count": null,
   "metadata": {
    "ExecuteTime": {
     "end_time": "2020-11-26T11:58:16.583962Z",
     "start_time": "2020-11-26T11:58:14.614494Z"
    }
   },
   "outputs": [],
   "source": [
    "g = sns.FacetGrid(mydata, col=\"Opposition\", col_wrap=3, height=3)\n",
    "g = g.map(plt.plot, \"Year\", \"BattingPosition\", marker=\"*\")\n",
    "plt.show()"
   ]
  },
  {
   "cell_type": "markdown",
   "metadata": {},
   "source": [
    "1. Against Pakistan, Bangladesh and Australia Kohli experimented playing only at two batting position ( Position-3 and 4).\n",
    "2. Against Sri Lanka he has been experimenting the highest: Has been an Opener and also batted at 7th position. Against West Indies, South Africa and England he has experimented a lot in coming at different batting positions.\n",
    "3. Against Zimbabwe he has only batted at position 3.\n"
   ]
  },
  {
   "cell_type": "markdown",
   "metadata": {},
   "source": [
    "                                             **Happy Learning**"
   ]
  }
 ],
 "metadata": {
  "kernelspec": {
   "display_name": "Python 3",
   "language": "python",
   "name": "python3"
  },
  "language_info": {
   "codemirror_mode": {
    "name": "ipython",
    "version": 3
   },
   "file_extension": ".py",
   "mimetype": "text/x-python",
   "name": "python",
   "nbconvert_exporter": "python",
   "pygments_lexer": "ipython3",
   "version": "3.7.1"
  },
  "toc": {
   "base_numbering": 1,
   "nav_menu": {},
   "number_sections": true,
   "sideBar": true,
   "skip_h1_title": false,
   "title_cell": "Table of Contents",
   "title_sidebar": "Contents",
   "toc_cell": false,
   "toc_position": {},
   "toc_section_display": true,
   "toc_window_display": false
  },
  "varInspector": {
   "cols": {
    "lenName": 16,
    "lenType": 16,
    "lenVar": 40
   },
   "kernels_config": {
    "python": {
     "delete_cmd_postfix": "",
     "delete_cmd_prefix": "del ",
     "library": "var_list.py",
     "varRefreshCmd": "print(var_dic_list())"
    },
    "r": {
     "delete_cmd_postfix": ") ",
     "delete_cmd_prefix": "rm(",
     "library": "var_list.r",
     "varRefreshCmd": "cat(var_dic_list()) "
    }
   },
   "types_to_exclude": [
    "module",
    "function",
    "builtin_function_or_method",
    "instance",
    "_Feature"
   ],
   "window_display": false
  }
 },
 "nbformat": 4,
 "nbformat_minor": 2
}
