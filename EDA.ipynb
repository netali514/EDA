{
 "cells": [
  {
   "cell_type": "markdown",
   "metadata": {},
   "source": [
    "# EDA Car Data Set\n",
    "\n",
    "**We will explore the Car Data set and perform the exploratory data analysis on the dataset. The major topics to be covered are below:**\n",
    "\n",
    "- **Removing duplicates**\n",
    "- **Missing value treatment**\n",
    "- **Outlier Treatment**\n",
    "- **Normalization and Scaling( Numerical Variables)**\n",
    "- **Encoding Categorical variables( Dummy Variables)**\n",
    "- **Univerate Analysis**\n",
    "- **Bivariate Analysis**"
   ]
  },
  {
   "cell_type": "markdown",
   "metadata": {},
   "source": [
    "**As a first step, we will import all the necessary libraries that we think we will requiring to perform the EDA.**"
   ]
  },
  {
   "cell_type": "markdown",
   "metadata": {},
   "source": [
    "# Importing Libraries"
   ]
  },
  {
   "cell_type": "code",
   "execution_count": null,
   "metadata": {
    "ExecuteTime": {
     "end_time": "2020-04-08T17:42:55.107577Z",
     "start_time": "2020-04-08T17:42:55.102597Z"
    }
   },
   "outputs": [],
   "source": [
    "import pandas as pd\n",
    "import numpy as np\n",
    "import matplotlib.pyplot as plt\n",
    "import seaborn as sns\n",
    "%matplotlib inline"
   ]
  },
  {
   "cell_type": "markdown",
   "metadata": {},
   "source": [
    "# Loading the data set\n",
    "\n",
    "**We will  be loading the EDA cars excel file using pandas. For this we will be using read_excel file.**"
   ]
  },
  {
   "cell_type": "code",
   "execution_count": null,
   "metadata": {
    "ExecuteTime": {
     "end_time": "2020-04-08T17:42:58.631162Z",
     "start_time": "2020-04-08T17:42:57.530483Z"
    }
   },
   "outputs": [],
   "source": [
    "df=pd.read_excel('EDA Cars.xlsx')"
   ]
  },
  {
   "cell_type": "markdown",
   "metadata": {},
   "source": [
    "# Basic Data Exploration \n",
    "\n",
    "**In this step, we will perform the below operations to check what the data set comprises of. We will check the below things:**\n",
    "\n",
    "- **head of the dataset**\n",
    "- **shape of the dataset**\n",
    "- **info of the dataset**\n",
    "- **summary of the dataset**"
   ]
  },
  {
   "cell_type": "code",
   "execution_count": null,
   "metadata": {
    "ExecuteTime": {
     "end_time": "2020-04-08T17:42:59.938189Z",
     "start_time": "2020-04-08T17:42:59.822520Z"
    }
   },
   "outputs": [],
   "source": []
  },
  {
   "cell_type": "markdown",
   "metadata": {},
   "source": [
    "**head function will tell you the top records in the data set. By default python shows you only top 5 records.**"
   ]
  },
  {
   "cell_type": "code",
   "execution_count": null,
   "metadata": {
    "ExecuteTime": {
     "end_time": "2020-04-08T17:43:01.021806Z",
     "start_time": "2020-04-08T17:43:01.017785Z"
    }
   },
   "outputs": [],
   "source": []
  },
  {
   "cell_type": "markdown",
   "metadata": {},
   "source": [
    "**Shape attribute tells us number of observations and variables we have in the data set. It is used to check the dimension of data. The cars data set has 303 observations and 13 variables in the data set.**"
   ]
  },
  {
   "cell_type": "code",
   "execution_count": null,
   "metadata": {
    "ExecuteTime": {
     "end_time": "2020-04-08T17:43:02.056400Z",
     "start_time": "2020-04-08T17:43:02.044470Z"
    }
   },
   "outputs": [],
   "source": []
  },
  {
   "cell_type": "code",
   "execution_count": null,
   "metadata": {},
   "outputs": [],
   "source": [
    " # Converting Postel Code into Category "
   ]
  },
  {
   "cell_type": "code",
   "execution_count": null,
   "metadata": {},
   "outputs": [],
   "source": []
  },
  {
   "cell_type": "markdown",
   "metadata": {},
   "source": [
    "**info() is used to check the Information about the data and the datatypes of each respective attributes.**"
   ]
  },
  {
   "cell_type": "code",
   "execution_count": null,
   "metadata": {
    "ExecuteTime": {
     "end_time": "2020-04-08T17:43:03.102441Z",
     "start_time": "2020-04-08T17:43:03.078505Z"
    }
   },
   "outputs": [],
   "source": []
  },
  {
   "cell_type": "markdown",
   "metadata": {},
   "source": [
    "**The describe method will help to see how data has been spread for the numerical values. We can clearly see the minimum value, mean values, different percentile values and maximum values.**"
   ]
  },
  {
   "cell_type": "markdown",
   "metadata": {},
   "source": [
    "# Check for Duplicate records"
   ]
  },
  {
   "cell_type": "code",
   "execution_count": null,
   "metadata": {
    "ExecuteTime": {
     "end_time": "2020-04-08T17:43:04.573449Z",
     "start_time": "2020-04-08T17:43:04.551522Z"
    }
   },
   "outputs": [],
   "source": [
    "# Check for duplicate data\n",
    "\n"
   ]
  },
  {
   "cell_type": "markdown",
   "metadata": {},
   "source": [
    "**Since we have 14 duplicate records in the data, we will remove this from the data set so that we get only distinct records.**"
   ]
  },
  {
   "cell_type": "code",
   "execution_count": null,
   "metadata": {
    "ExecuteTime": {
     "end_time": "2020-04-08T17:43:05.593735Z",
     "start_time": "2020-04-08T17:43:05.581812Z"
    }
   },
   "outputs": [],
   "source": []
  },
  {
   "cell_type": "markdown",
   "metadata": {},
   "source": [
    "**Post removing the duplicate, we will check whether the duplicates has been removed from the data set or not.**"
   ]
  },
  {
   "cell_type": "code",
   "execution_count": null,
   "metadata": {
    "ExecuteTime": {
     "end_time": "2020-04-08T17:43:06.553875Z",
     "start_time": "2020-04-08T17:43:06.537920Z"
    }
   },
   "outputs": [],
   "source": [
    "# Check for duplicate data\n",
    "\n",
    "dups = df.duplicated()\n",
    "print('Number of duplicate rows = %d' % (dups.sum()))\n",
    "\n",
    "df[dups]"
   ]
  },
  {
   "cell_type": "markdown",
   "metadata": {},
   "source": [
    "**Now, we can  clearly see that there are no duplicate records in the data set. We can also quickly confirm the number of records by using the shape attribute as those 14 records should be removed from the original data. Initially it had 303 records now it should have 289**"
   ]
  },
  {
   "cell_type": "code",
   "execution_count": null,
   "metadata": {
    "ExecuteTime": {
     "end_time": "2020-04-08T17:43:07.511247Z",
     "start_time": "2020-04-08T17:43:07.507265Z"
    }
   },
   "outputs": [],
   "source": [
    "df.shape"
   ]
  },
  {
   "cell_type": "markdown",
   "metadata": {},
   "source": [
    "# Outlier Treatment\n",
    "\n",
    "**To check for outliers, we will be plotting the box plots.**"
   ]
  },
  {
   "cell_type": "code",
   "execution_count": null,
   "metadata": {
    "ExecuteTime": {
     "end_time": "2020-04-08T17:43:09.015194Z",
     "start_time": "2020-04-08T17:43:08.445798Z"
    }
   },
   "outputs": [],
   "source": [
    "df.boxplot(column=['INCOME'])\n",
    "plt.show()"
   ]
  },
  {
   "cell_type": "code",
   "execution_count": null,
   "metadata": {
    "ExecuteTime": {
     "end_time": "2020-04-08T17:43:09.220949Z",
     "start_time": "2020-04-08T17:43:09.126393Z"
    },
    "scrolled": true
   },
   "outputs": [],
   "source": [
    "df.boxplot(column=['TRAVEL TIME'])\n",
    "plt.show()"
   ]
  },
  {
   "cell_type": "code",
   "execution_count": null,
   "metadata": {
    "ExecuteTime": {
     "end_time": "2020-04-08T17:43:09.619602Z",
     "start_time": "2020-04-08T17:43:09.518443Z"
    }
   },
   "outputs": [],
   "source": [
    "df.boxplot(column=['CAR AGE'])\n",
    "plt.show()"
   ]
  },
  {
   "cell_type": "code",
   "execution_count": null,
   "metadata": {
    "ExecuteTime": {
     "end_time": "2020-04-08T17:43:10.152434Z",
     "start_time": "2020-04-08T17:43:10.052701Z"
    }
   },
   "outputs": [],
   "source": [
    "df.boxplot(column=['MILES CLOCKED'])\n",
    "plt.show()"
   ]
  },
  {
   "cell_type": "markdown",
   "metadata": {},
   "source": [
    "**Looking at the box plot, it seems that the three variables INCOME, MILES CLOCKED and TRAVEL TIME have outlier present in the variables.**\n",
    "\n",
    "**These outliers value needs to be teated and there are several ways of treating them:**\n",
    "    \n",
    "- **Drop the outlier value**\n",
    "- **Replace the outlier value using the IQR**\n",
    "\n"
   ]
  },
  {
   "cell_type": "markdown",
   "metadata": {},
   "source": [
    "**Created a user definded function for finding the lower and upper range for a variable so that outlier can be treated.**"
   ]
  },
  {
   "cell_type": "code",
   "execution_count": null,
   "metadata": {
    "ExecuteTime": {
     "end_time": "2020-04-08T17:43:12.135431Z",
     "start_time": "2020-04-08T17:43:12.127452Z"
    }
   },
   "outputs": [],
   "source": [
    "   "
   ]
  },
  {
   "cell_type": "code",
   "execution_count": null,
   "metadata": {
    "ExecuteTime": {
     "end_time": "2020-04-08T17:43:12.650851Z",
     "start_time": "2020-04-08T17:43:12.626880Z"
    }
   },
   "outputs": [],
   "source": []
  },
  {
   "cell_type": "markdown",
   "metadata": {},
   "source": [
    "##  Make Boxplots after Outlier Treatment"
   ]
  },
  {
   "cell_type": "code",
   "execution_count": null,
   "metadata": {
    "ExecuteTime": {
     "end_time": "2020-04-08T17:43:13.270315Z",
     "start_time": "2020-04-08T17:43:13.165558Z"
    }
   },
   "outputs": [],
   "source": []
  },
  {
   "cell_type": "code",
   "execution_count": null,
   "metadata": {
    "ExecuteTime": {
     "end_time": "2020-04-08T17:43:13.775304Z",
     "start_time": "2020-04-08T17:43:13.680593Z"
    }
   },
   "outputs": [],
   "source": [
    "df.boxplot(column=['TRAVEL TIME'])\n",
    "plt.show()"
   ]
  },
  {
   "cell_type": "code",
   "execution_count": null,
   "metadata": {
    "ExecuteTime": {
     "end_time": "2020-04-08T17:43:14.291660Z",
     "start_time": "2020-04-08T17:43:14.188935Z"
    }
   },
   "outputs": [],
   "source": [
    "df.boxplot(column=['MILES CLOCKED'])\n",
    "plt.show()"
   ]
  },
  {
   "cell_type": "markdown",
   "metadata": {},
   "source": [
    "**If you look at the box plots above,post treating the outlier there are no outliers in all these columns.**"
   ]
  },
  {
   "cell_type": "markdown",
   "metadata": {},
   "source": [
    "# Check for missing value"
   ]
  },
  {
   "cell_type": "code",
   "execution_count": null,
   "metadata": {
    "ExecuteTime": {
     "end_time": "2020-04-08T17:43:16.269367Z",
     "start_time": "2020-04-08T17:43:16.260391Z"
    }
   },
   "outputs": [],
   "source": [
    "# Check for missing value in any column\n"
   ]
  },
  {
   "cell_type": "markdown",
   "metadata": {},
   "source": [
    "**We can see that we have various missing values in respective columns. There are various ways of treating your missing values in the data set. And which technique to use when is actually dependent on the type of data you are dealing with.**\n",
    "\n",
    "- **Drop the missing values : In this case we drop the missing values from those variables. In case there are very few missing values you can drop those values.**\n",
    "\n",
    "- **Impute with mean value : For numerical column, you can replace the missing values with mean values. Before replacing with mean value, it is advisable to check that the variable shouldn't have extreme values .i.e. outliers.**\n",
    "\n",
    "- **Impute with median value : For numerical column, you can also replace the missing values with median values. In case you have extreme values such as outliers it is advisable to use median approach.**\n",
    "\n",
    "- **Impute with mode value : For categorical column, you can replace the missing values with mode values i.e the frequent ones.**\n",
    "\n",
    "**In this exercise, we will replace the numerical columns with median values and for categorical columns we will replace the missing values with mode values.**"
   ]
  },
  {
   "cell_type": "code",
   "execution_count": null,
   "metadata": {
    "ExecuteTime": {
     "end_time": "2020-04-08T17:43:17.371867Z",
     "start_time": "2020-04-08T17:43:17.351924Z"
    }
   },
   "outputs": [],
   "source": [
    "df[df.isnull().sum()[df.isnull().sum()>0].index].dtypes"
   ]
  },
  {
   "cell_type": "markdown",
   "metadata": {},
   "source": [
    "**Replacing NULL values in Numerical Columns using Median**"
   ]
  },
  {
   "cell_type": "code",
   "execution_count": null,
   "metadata": {
    "ExecuteTime": {
     "end_time": "2020-04-08T17:43:18.406760Z",
     "start_time": "2020-04-08T17:43:18.397786Z"
    }
   },
   "outputs": [],
   "source": [
    "\n"
   ]
  },
  {
   "cell_type": "markdown",
   "metadata": {},
   "source": [
    "**Replacing NULL values in Categorical Columns using Mode**"
   ]
  },
  {
   "cell_type": "code",
   "execution_count": null,
   "metadata": {
    "ExecuteTime": {
     "end_time": "2020-04-08T17:43:19.472345Z",
     "start_time": "2020-04-08T17:43:19.458383Z"
    }
   },
   "outputs": [],
   "source": []
  },
  {
   "cell_type": "code",
   "execution_count": null,
   "metadata": {
    "ExecuteTime": {
     "end_time": "2020-04-08T17:43:19.990388Z",
     "start_time": "2020-04-08T17:43:19.979378Z"
    }
   },
   "outputs": [],
   "source": [
    "# Check for missing value in any column\n",
    "df.isnull().sum()"
   ]
  },
  {
   "cell_type": "markdown",
   "metadata": {},
   "source": [
    "# Univariate Analysis"
   ]
  },
  {
   "cell_type": "code",
   "execution_count": null,
   "metadata": {},
   "outputs": [],
   "source": [
    "  # histogram of income"
   ]
  },
  {
   "cell_type": "markdown",
   "metadata": {},
   "source": [
    "From above figure, we can say that the Income parameter is right skewed"
   ]
  },
  {
   "cell_type": "code",
   "execution_count": null,
   "metadata": {},
   "outputs": [],
   "source": [
    "sns.countplot(df[\"EDUCATION\"],hue=df[\"SEX\"])   #countplot for Education wrt SEX"
   ]
  },
  {
   "cell_type": "markdown",
   "metadata": {},
   "source": [
    "From the above graph we can interpret that majority of the people are High School passouts and this is true for both Males and Females"
   ]
  },
  {
   "cell_type": "markdown",
   "metadata": {},
   "source": [
    "# Bivariate Analysis"
   ]
  },
  {
   "cell_type": "code",
   "execution_count": null,
   "metadata": {
    "ExecuteTime": {
     "end_time": "2020-04-08T17:43:24.482727Z",
     "start_time": "2020-04-08T17:43:20.994414Z"
    }
   },
   "outputs": [],
   "source": [
    "    #Pairplot of all variables"
   ]
  },
  {
   "cell_type": "markdown",
   "metadata": {},
   "source": [
    "**In the above plot scatter diagrams are plotted for all the numerical columns in the dataset. A scatter plot is a visual representation of the degree of correlation between any two columns. The pair plot function in seaborn makes it very easy to generate joint scatter plots for all the columns in the data.**"
   ]
  },
  {
   "cell_type": "code",
   "execution_count": null,
   "metadata": {
    "ExecuteTime": {
     "end_time": "2020-04-08T17:43:24.615385Z",
     "start_time": "2020-04-08T17:43:24.604411Z"
    }
   },
   "outputs": [],
   "source": [
    "df.corr()"
   ]
  },
  {
   "cell_type": "markdown",
   "metadata": {},
   "source": [
    "## Correlation Heatmap"
   ]
  },
  {
   "cell_type": "code",
   "execution_count": null,
   "metadata": {
    "ExecuteTime": {
     "end_time": "2020-04-08T17:43:29.310359Z",
     "start_time": "2020-04-08T17:43:28.805698Z"
    }
   },
   "outputs": [],
   "source": []
  },
  {
   "cell_type": "markdown",
   "metadata": {},
   "source": [
    "# Normalizing and Scaling"
   ]
  },
  {
   "cell_type": "markdown",
   "metadata": {},
   "source": [
    "**Often the variables of the data set are of different scales i.e. one variable is in millions and other in only 100. For e.g. in our data set Income is having values in thousands and age in just two digits. Since the data in these variables are of different scales, it is tough to compare these variables.**\n",
    "\n",
    "**Feature scaling (also known as data normalization) is the method used to standardize the range of features of data. Since, the range of values of data may vary widely, it becomes a necessary step in data preprocessing while using machine learning algorithms.**\n",
    "\n",
    "**In this method, we convert variables with different scales of measurements into a single scale.**\n",
    "\n",
    "**StandardScaler normalizes the data using the formula (x-mean)/standard deviation.**\n",
    "\n",
    "**We will be doing this only for the numerical variables.**"
   ]
  },
  {
   "cell_type": "code",
   "execution_count": null,
   "metadata": {
    "ExecuteTime": {
     "end_time": "2020-04-08T17:43:31.510840Z",
     "start_time": "2020-04-08T17:43:30.620936Z"
    }
   },
   "outputs": [],
   "source": [
    "#Scales the data. Essentially returns the z-scores of every attribute\n"
   ]
  },
  {
   "cell_type": "code",
   "execution_count": null,
   "metadata": {
    "ExecuteTime": {
     "end_time": "2020-04-08T17:43:31.653530Z",
     "start_time": "2020-04-08T17:43:31.637491Z"
    }
   },
   "outputs": [],
   "source": []
  },
  {
   "cell_type": "code",
   "execution_count": null,
   "metadata": {
    "ExecuteTime": {
     "end_time": "2020-04-08T17:43:31.825651Z",
     "start_time": "2020-04-08T17:43:31.769224Z"
    }
   },
   "outputs": [],
   "source": [
    "df.head()"
   ]
  },
  {
   "cell_type": "markdown",
   "metadata": {},
   "source": [
    "**If you look at the variables INCOME, TRAVEL TIME and CAR AGE, all has been normalized and scaled in one scale now.**"
   ]
  },
  {
   "cell_type": "markdown",
   "metadata": {},
   "source": [
    "# ENCODING\n",
    "\n",
    "**One-Hot-Encoding is used to create dummy variables to replace the categories in a categorical variable into features of each category and represent it using 1 or 0 based on the presence or absence of the categorical value in the record.**\n",
    "\n",
    "**This is required to do since the machine learning algorithms only works on the numerical data. That is why there is a need to convert the categorical column into numerical one.**\n",
    "\n",
    "**get_dummies is the method which creates dummy variable for each categorical variable.**\n",
    "\n",
    "**It is considered a good practice to set parameter `drop_first` as `True` whenever get_dummies is used. It reduces the chances of multicollinearity which will be covered in coming courses and the number of features are also less as compared to `drop_first=False`**"
   ]
  },
  {
   "cell_type": "code",
   "execution_count": null,
   "metadata": {
    "ExecuteTime": {
     "end_time": "2020-04-08T17:43:33.386403Z",
     "start_time": "2020-04-08T17:43:33.363466Z"
    }
   },
   "outputs": [],
   "source": []
  },
  {
   "cell_type": "code",
   "execution_count": null,
   "metadata": {
    "ExecuteTime": {
     "end_time": "2020-04-08T17:43:33.906006Z",
     "start_time": "2020-04-08T17:43:33.892044Z"
    }
   },
   "outputs": [],
   "source": [
    "columns=[\"MARITAL STATUS\", \"SEX\",\"EDUCATION\",\"JOB\",\"USE\",\"CAR TYPE\",\"CITY\"]\n",
    "df = pd.concat([df, dummies], axis=1)\n",
    "\n",
    "# drop original column \"fuel-type\" from \"df\"\n"
   ]
  },
  {
   "cell_type": "code",
   "execution_count": null,
   "metadata": {
    "ExecuteTime": {
     "end_time": "2020-04-08T17:43:34.404094Z",
     "start_time": "2020-04-08T17:43:34.374215Z"
    }
   },
   "outputs": [],
   "source": [
    "df.head()"
   ]
  },
  {
   "cell_type": "markdown",
   "metadata": {},
   "source": [
    "**In the data set, each Category in all of the categorical columns have been added as columns with values 0 and 1**\n",
    "**Example: married_Yes, sex_M, Education_High School\n",
    "**If sex_M =1, then it means its a Male and sex_M=0 means its a Female**"
   ]
  }
 ],
 "metadata": {
  "kernelspec": {
   "display_name": "Python 3",
   "language": "python",
   "name": "python3"
  },
  "language_info": {
   "codemirror_mode": {
    "name": "ipython",
    "version": 3
   },
   "file_extension": ".py",
   "mimetype": "text/x-python",
   "name": "python",
   "nbconvert_exporter": "python",
   "pygments_lexer": "ipython3",
   "version": "3.7.1"
  },
  "toc": {
   "base_numbering": 1,
   "nav_menu": {},
   "number_sections": true,
   "sideBar": true,
   "skip_h1_title": false,
   "title_cell": "Table of Contents",
   "title_sidebar": "Contents",
   "toc_cell": false,
   "toc_position": {},
   "toc_section_display": true,
   "toc_window_display": false
  },
  "varInspector": {
   "cols": {
    "lenName": 16,
    "lenType": 16,
    "lenVar": 40
   },
   "kernels_config": {
    "python": {
     "delete_cmd_postfix": "",
     "delete_cmd_prefix": "del ",
     "library": "var_list.py",
     "varRefreshCmd": "print(var_dic_list())"
    },
    "r": {
     "delete_cmd_postfix": ") ",
     "delete_cmd_prefix": "rm(",
     "library": "var_list.r",
     "varRefreshCmd": "cat(var_dic_list()) "
    }
   },
   "types_to_exclude": [
    "module",
    "function",
    "builtin_function_or_method",
    "instance",
    "_Feature"
   ],
   "window_display": false
  }
 },
 "nbformat": 4,
 "nbformat_minor": 2
}
